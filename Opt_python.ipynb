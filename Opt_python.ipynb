{
  "nbformat": 4,
  "nbformat_minor": 0,
  "metadata": {
    "colab": {
      "name": "Opt_HW6_python.ipynb",
      "provenance": [],
      "collapsed_sections": []
    },
    "kernelspec": {
      "name": "python3",
      "display_name": "Python 3"
    },
    "language_info": {
      "name": "python"
    }
  },
  "cells": [
    {
      "cell_type": "code",
      "execution_count": 1,
      "metadata": {
        "colab": {
          "base_uri": "https://localhost:8080/"
        },
        "id": "j3A6s89wjeBY",
        "outputId": "44a2e32f-728e-44a8-8d95-2b7160c3d50c"
      },
      "outputs": [
        {
          "output_type": "stream",
          "name": "stdout",
          "text": [
            "Requirement already satisfied: geneticalgorithm in /usr/local/lib/python3.7/dist-packages (1.0.2)\n",
            "Requirement already satisfied: func-timeout in /usr/local/lib/python3.7/dist-packages (from geneticalgorithm) (4.3.5)\n",
            "Requirement already satisfied: numpy in /usr/local/lib/python3.7/dist-packages (from geneticalgorithm) (1.19.5)\n"
          ]
        }
      ],
      "source": [
        "pip install geneticalgorithm"
      ]
    },
    {
      "cell_type": "code",
      "source": [
        "import numpy as np\n",
        "from geneticalgorithm import geneticalgorithm as ga\n",
        "from math import pi\n",
        "from scipy.integrate import odeint\n",
        "import matplotlib.pyplot as plt\n"
      ],
      "metadata": {
        "id": "b45ryosAjxzj"
      },
      "execution_count": 2,
      "outputs": []
    },
    {
      "cell_type": "code",
      "source": [
        "\n",
        "def z1_fun(t):\n",
        "  return 0.02*(1-(np.cos(100*pi*t))**2)*(1-np.heaviside(t-0.01, 0.5))\n",
        "\n",
        "def dz1dt_fun(t):\n",
        "  return - 4*pi*np.cos(100*pi*t)*np.sin(100*pi*t)*(np.heaviside(t - 1/100,1) - 1)\n",
        "\n",
        "def z2_fun(t):\n",
        "  return 0.02*(1-(np.cos((100*pi)*(t-0.05)))**2)*(1-np.heaviside(t-0.06,0.5))*np.heaviside(t-0.05,0.5);\n",
        "\n",
        "def dz2dt_fun(t):\n",
        "  return -4*pi*np.heaviside(t - 1/20,0.5)*np.cos(100*pi*(t - 1/20))*np.sin(100*pi*(t - 1/20))*(np.heaviside(t - 3/50,0.5) - 1)\n",
        "\n",
        "def RMS(x):\n",
        "  return (np.sum(x**2)/np.size(x))**0.5"
      ],
      "metadata": {
        "id": "mA6PEr-kjx62"
      },
      "execution_count": 3,
      "outputs": []
    },
    {
      "cell_type": "code",
      "source": [
        "L=3\n",
        "a=1.3\n",
        "I=225\n",
        "ma=25\n",
        "ms=300\n",
        "\n",
        "def pend(y,t,C_K_vec):\n",
        "  z1=z1_fun(t)\n",
        "  dz1dt=dz1dt_fun(t)\n",
        "  z2=z2_fun(t)\n",
        "  dz2dt=dz2dt_fun(t)\n",
        "\n",
        "  c1,c2,c3,c4,k1,k2,k3,k4=C_K_vec\n",
        "\n",
        "  dydt=np.zeros(np.shape(y))\n",
        "  dydt[0]=y[4]\n",
        "  dydt[1]=y[5]\n",
        "  dydt[2]=y[6]\n",
        "  dydt[3]=y[7]\n",
        "\n",
        "  \n",
        "  dydt[4]=(-1/I)*((a**2*k1+(L-a)**2*k2)*y[0]+(k1*a-k2*(L-a))*y[1]-k1*a*y[2]+k2*(L-a)*y[3]+\n",
        "                  (a**2*c1+(L-a)**2*c2)*y[4]+(c1*a-c2*(L-a))*y[5]-c1*a*y[6]+c2*(L-a)*y[7])\n",
        "  \n",
        "  dydt[5]=(-1/ms)*((a*k1-(L-a)*k2)*y[0]+(k1+k2)*y[1]-k1*y[2]-k2*y[3]+\n",
        "                   (a*c1-(L-a)*c2)*y[4]+(c1+c2)*y[5]-c1*y[6]-c2*y[7])\n",
        "  \n",
        "  dydt[6]=(-1/ma)*(-a*k1*y[0]-k1*y[1]+(k1+k3)*y[2]-\n",
        "                   a*c1*y[4]-c1*y[5]+(c1+c3)*y[6]-\n",
        "                   c3*dz1dt-k3*z1)\n",
        "  \n",
        "  dydt[7]=(-1/ma)*(k2*(L-a)*y[0]-k2*y[1]+(k2+k4)*y[3]+\n",
        "                   c2*(L-a)*y[4]-c2*y[5]+(c2+c4)*y[7]-\n",
        "                   c4*dz2dt-k4*z2)\n",
        "  return dydt\n",
        "  "
      ],
      "metadata": {
        "id": "iUyX4vMCjyEI"
      },
      "execution_count": 4,
      "outputs": []
    },
    {
      "cell_type": "code",
      "source": [
        "global n\n",
        "n=2000\n",
        "\n",
        "def f(C_K_vec):\n",
        "  z0=np.array([0,0.03,0,0,0,0,0,0])\n",
        "  tspan= np.ndarray.tolist(np.linspace(0,2,n))\n",
        "  y_vec=odeint(pend,z0,tspan,args=(C_K_vec,),atol=1.0e-5, rtol=1.0e-5)\n",
        "\n",
        "  acc1=(-1/ms)*( ((C_K_vec[0]+C_K_vec[1])*a-C_K_vec[1]*L)*y_vec[:,4]+(C_K_vec[0]+C_K_vec[1])*y_vec[:,5]+(-C_K_vec[0])*y_vec[:,6]+(-C_K_vec[1])*y_vec[:,7]+\n",
        "          ((C_K_vec[4]+C_K_vec[5])*a-C_K_vec[5]*L)*y_vec[:,0]+(C_K_vec[4]+C_K_vec[5])*y_vec[:,1]+(-C_K_vec[4])*y_vec[:,2]+(-C_K_vec[5])*y_vec[:,3] )\n",
        "\n",
        "  return RMS(acc1)+5*RMS(y_vec[:,6])\n"
      ],
      "metadata": {
        "id": "eIieCs6cjyKO"
      },
      "execution_count": 5,
      "outputs": []
    },
    {
      "cell_type": "markdown",
      "source": [
        "Part 1"
      ],
      "metadata": {
        "id": "TcOwVrGbk04G"
      }
    },
    {
      "cell_type": "code",
      "source": [
        "varbound=np.array([[500,2000],[500,2000],[500,2000],[500,2000],[5000,20000],[5000,20000],[90000,150000],[90000,150000]])\n",
        "\n",
        "\n",
        "params={ 'max_num_iteration': 1500,'population_size': 100,'mutation_probability': 0.25,'elit_ratio': 0.01,\n",
        "        'crossover_probability': 0.5,'parents_portion': 0.3,'crossover_type': 'uniform','max_iteration_without_improv': None }\n",
        "\n",
        "model=ga(function=f,dimension=8,variable_type='int',variable_boundaries=varbound,algorithm_parameters = params)\n",
        "\n",
        "model.run()\n",
        "\n",
        "#15 min"
      ],
      "metadata": {
        "colab": {
          "base_uri": "https://localhost:8080/",
          "height": 386
        },
        "id": "Yz6OWxz6k182",
        "outputId": "67ae4841-bc2a-4521-d3d7-b389b602098e"
      },
      "execution_count": 6,
      "outputs": [
        {
          "output_type": "stream",
          "name": "stdout",
          "text": [
            " The best solution found:\n",
            " [ 1908.  1096.   518.   535.  5186.  5086. 91116. 90110.]\n",
            "\n",
            " Objective function:\n",
            " 0.359564395150214\n"
          ]
        },
        {
          "output_type": "display_data",
          "data": {
            "image/png": "[encoded data removed]",
            "text/plain": [
              "<Figure size 432x288 with 1 Axes>"
            ]
          },
          "metadata": {
            "needs_background": "light"
          }
        }
      ]
    },
    {
      "cell_type": "markdown",
      "source": [
        "Part 2"
      ],
      "metadata": {
        "id": "rI81YjS-k9Q8"
      }
    },
    {
      "cell_type": "code",
      "source": [
        "varbound=np.array([[500,2000],[500,2000],[500,2000],[500,2000],[5000,20000],[5000,20000],[90000,150000],[90000,150000]])\n",
        "\n",
        "\n",
        "params={ 'max_num_iteration': 1500,'population_size': 100,'mutation_probability': 0.1,'elit_ratio': 0.03,\n",
        "        'crossover_probability': 0.5,'parents_portion': 0.3,'crossover_type': 'uniform','max_iteration_without_improv': None }\n",
        "\n",
        "model=ga(function=f,dimension=8,variable_type='int',variable_boundaries=varbound,algorithm_parameters = params)\n",
        "\n",
        "model.run()"
      ],
      "metadata": {
        "colab": {
          "base_uri": "https://localhost:8080/",
          "height": 386
        },
        "id": "SSxq-2oTk6AV",
        "outputId": "e1b615ac-79f1-40d0-8d4a-0cc6390c3593"
      },
      "execution_count": 9,
      "outputs": [
        {
          "output_type": "stream",
          "name": "stdout",
          "text": [
            " The best solution found:\n",
            " [ 1832.  1105.   500.   500.  5017.  5015. 90072. 90006.]\n",
            "\n",
            " Objective function:\n",
            " 0.3524045877822264\n"
          ]
        },
        {
          "output_type": "display_data",
          "data": {
            "image/png": "[encoded data removed]",
            "text/plain": [
              "<Figure size 432x288 with 1 Axes>"
            ]
          },
          "metadata": {
            "needs_background": "light"
          }
        }
      ]
    }
  ]
}